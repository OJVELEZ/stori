{
 "cells": [
  {
   "cell_type": "markdown",
   "metadata": {},
   "source": [
    "###\n"
   ]
  },
  {
   "cell_type": "markdown",
   "metadata": {},
   "source": [
    "### Create a dataset using fake library\n",
    "#### Data set will contain 3 columns id, Date, Transaction"
   ]
  },
  {
   "cell_type": "code",
   "execution_count": 46,
   "metadata": {},
   "outputs": [],
   "source": [
    "from faker import Faker\n",
    "\n",
    "import datetime\n",
    "import pandas as pd\n",
    "import random\n",
    "\n"
   ]
  },
  {
   "cell_type": "code",
   "execution_count": 47,
   "metadata": {},
   "outputs": [],
   "source": [
    "fake = Faker()"
   ]
  },
  {
   "cell_type": "code",
   "execution_count": 48,
   "metadata": {},
   "outputs": [],
   "source": [
    "\n",
    "def generate_dataset(num_rows):\n",
    "    dataset = []\n",
    "    for i in range(num_rows):\n",
    "        row = [\n",
    "            i + 1,\n",
    "            fake.date_between_dates(date_start=datetime.date(2023, 1, 1), date_end=datetime.date.today()),\n",
    "            f\"{random.choice(['+', '-'])}{fake.random_int(min=1, max=999999)}.{fake.random_int(min=0, max=9)}\"\n",
    "        ]\n",
    "        dataset.append(row)\n",
    "    return dataset"
   ]
  },
  {
   "cell_type": "code",
   "execution_count": 49,
   "metadata": {},
   "outputs": [],
   "source": [
    "num_rows = 100\n",
    "dataset = generate_dataset(num_rows)"
   ]
  },
  {
   "cell_type": "code",
   "execution_count": 50,
   "metadata": {},
   "outputs": [
    {
     "name": "stdout",
     "output_type": "stream",
     "text": [
      "<class 'pandas.core.frame.DataFrame'>\n",
      "RangeIndex: 100 entries, 0 to 99\n",
      "Data columns (total 3 columns):\n",
      " #   Column       Non-Null Count  Dtype \n",
      "---  ------       --------------  ----- \n",
      " 0   Id           100 non-null    int64 \n",
      " 1   Date         100 non-null    object\n",
      " 2   Transaction  100 non-null    object\n",
      "dtypes: int64(1), object(2)\n",
      "memory usage: 2.5+ KB\n"
     ]
    }
   ],
   "source": [
    "\n",
    "columns_lst = ['Id', 'Date', 'Transaction']\n",
    "df_dataset = pd.DataFrame(dataset, columns=columns_lst)\n",
    "\n",
    "df_dataset.info()\n",
    "\n"
   ]
  },
  {
   "cell_type": "code",
   "execution_count": 51,
   "metadata": {},
   "outputs": [],
   "source": [
    "df_dataset.to_csv('stori_ove.csv', index=False)"
   ]
  },
  {
   "cell_type": "markdown",
   "metadata": {},
   "source": [
    "### Read file"
   ]
  },
  {
   "cell_type": "code",
   "execution_count": 52,
   "metadata": {},
   "outputs": [],
   "source": [
    "df_dataset['Transaction'] = df_dataset['Transaction'].astype('float64')\n",
    "\n",
    "total_balance = df_dataset['Transaction'].sum().round(2)"
   ]
  },
  {
   "cell_type": "code",
   "execution_count": 53,
   "metadata": {},
   "outputs": [
    {
     "name": "stdout",
     "output_type": "stream",
     "text": [
      "<class 'pandas.core.frame.DataFrame'>\n",
      "RangeIndex: 100 entries, 0 to 99\n",
      "Data columns (total 3 columns):\n",
      " #   Column       Non-Null Count  Dtype         \n",
      "---  ------       --------------  -----         \n",
      " 0   Id           100 non-null    int64         \n",
      " 1   Date         100 non-null    datetime64[ns]\n",
      " 2   Transaction  100 non-null    float64       \n",
      "dtypes: datetime64[ns](1), float64(1), int64(1)\n",
      "memory usage: 2.5 KB\n"
     ]
    }
   ],
   "source": [
    "df_dataset['Date'] = pd.to_datetime(df_dataset['Date'])\n",
    "df_dataset.info()"
   ]
  },
  {
   "cell_type": "code",
   "execution_count": 63,
   "metadata": {},
   "outputs": [
    {
     "data": {
      "text/plain": [
       "{'Month': {0: '2023-01',\n",
       "  1: '2023-02',\n",
       "  2: '2023-03',\n",
       "  3: '2023-04',\n",
       "  4: '2023-05',\n",
       "  5: '2023-06',\n",
       "  6: '2023-07',\n",
       "  7: '2023-08'},\n",
       " 'num_transactions': {0: 16, 1: 11, 2: 27, 3: 6, 4: 9, 5: 11, 6: 9, 7: 11},\n",
       " 'avg_credit': {0: 512067.2,\n",
       "  1: 583267.26,\n",
       "  2: 533694.26,\n",
       "  3: 624000.6,\n",
       "  4: 252623.45,\n",
       "  5: 562292.38,\n",
       "  6: 701017.95,\n",
       "  7: 599784.7},\n",
       " 'avg_debit': {0: -447522.17,\n",
       "  1: -653828.3,\n",
       "  2: -506261.48,\n",
       "  3: -438965.28,\n",
       "  4: -557512.73,\n",
       "  5: -558372.68,\n",
       "  6: -480433.3,\n",
       "  7: -548410.07},\n",
       " 'total_balance': {0: -3491417.7,\n",
       "  1: -3491417.7,\n",
       "  2: -3491417.7,\n",
       "  3: -3491417.7,\n",
       "  4: -3491417.7,\n",
       "  5: -3491417.7,\n",
       "  6: -3491417.7,\n",
       "  7: -3491417.7}}"
      ]
     },
     "execution_count": 63,
     "metadata": {},
     "output_type": "execute_result"
    }
   ],
   "source": [
    "df_dataset['Month'] = df_dataset['Date'].dt.to_period('M').astype('str')\n",
    "\n",
    "# df_dataset['Month'] = df_dataset['Month'].astype('str')\n",
    "\n",
    "df_grouped = df_dataset.groupby('Month').agg( num_transactions=pd.NamedAgg(column='Transaction', aggfunc='count'), avg_credit=pd.NamedAgg(column='Transaction', aggfunc=lambda x: x[x > 0].mean()), avg_debit=pd.NamedAgg(column='Transaction', aggfunc=lambda x: x[x < 0].mean())).reset_index()\n",
    "                                  \n",
    "df_grouped['avg_credit']  = df_grouped['avg_credit'].round(2)\n",
    "df_grouped['avg_debit']  = df_grouped['avg_debit'].round(2)\n",
    "df_grouped['total_balance']  = total_balance\n",
    "\n",
    "df_grouped.to_dict(orient='dict')"
   ]
  },
  {
   "cell_type": "code",
   "execution_count": 61,
   "metadata": {},
   "outputs": [],
   "source": [
    "def get_balance_dict(df_balance):\n",
    "    \n",
    "    result_lst = []\n",
    "    result_dict = {}\n",
    "    balance_fl = 0.0\n",
    "    \n",
    "    for index, row in df_balance.iterrows():\n",
    "        row_dict = {\n",
    "            'Month': row['Month'],\n",
    "            'num_transactions': row['num_transactions'],\n",
    "            'avg_credit': row['avg_credit'],\n",
    "            'avg_debit': row['avg_debit']\n",
    "        }\n",
    "        \n",
    "        result_lst.append(row_dict)\n",
    "        balance_fl = row['total_balance'] \n",
    "        \n",
    "    result_dict['months'] = result_lst\n",
    "    result_dict['total_balance'] = balance_fl\n",
    "    \n",
    "    return result_dict"
   ]
  },
  {
   "cell_type": "code",
   "execution_count": 62,
   "metadata": {},
   "outputs": [
    {
     "name": "stdout",
     "output_type": "stream",
     "text": [
      "{'months': [{'Month': '2023-01', 'num_transactions': 16, 'avg_credit': 512067.2, 'avg_debit': -447522.17}, {'Month': '2023-02', 'num_transactions': 11, 'avg_credit': 583267.26, 'avg_debit': -653828.3}, {'Month': '2023-03', 'num_transactions': 27, 'avg_credit': 533694.26, 'avg_debit': -506261.48}, {'Month': '2023-04', 'num_transactions': 6, 'avg_credit': 624000.6, 'avg_debit': -438965.28}, {'Month': '2023-05', 'num_transactions': 9, 'avg_credit': 252623.45, 'avg_debit': -557512.73}, {'Month': '2023-06', 'num_transactions': 11, 'avg_credit': 562292.38, 'avg_debit': -558372.68}, {'Month': '2023-07', 'num_transactions': 9, 'avg_credit': 701017.95, 'avg_debit': -480433.3}, {'Month': '2023-08', 'num_transactions': 11, 'avg_credit': 599784.7, 'avg_debit': -548410.07}], 'total_balance': -3491417.7}\n"
     ]
    }
   ],
   "source": [
    "print(get_balance_dict(df_grouped))"
   ]
  },
  {
   "cell_type": "markdown",
   "metadata": {},
   "source": [
    "##### Sender teststori25@gmail.com Stori123*"
   ]
  }
 ],
 "metadata": {
  "kernelspec": {
   "display_name": "Python 3 (ipykernel)",
   "language": "python",
   "name": "python3"
  },
  "language_info": {
   "codemirror_mode": {
    "name": "ipython",
    "version": 3
   },
   "file_extension": ".py",
   "mimetype": "text/x-python",
   "name": "python",
   "nbconvert_exporter": "python",
   "pygments_lexer": "ipython3",
   "version": "3.8.10"
  },
  "orig_nbformat": 4
 },
 "nbformat": 4,
 "nbformat_minor": 2
}
